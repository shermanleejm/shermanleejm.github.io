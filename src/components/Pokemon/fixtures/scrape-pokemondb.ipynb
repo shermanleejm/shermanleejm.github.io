{
 "cells": [
  {
   "cell_type": "code",
   "execution_count": 1,
   "metadata": {},
   "outputs": [],
   "source": [
    "import chromedriver_binary\n",
    "from selenium import webdriver\n",
    "from selenium.webdriver.chrome.options import Options\n",
    "from selenium.webdriver.common.keys import Keys\n",
    "from selenium.webdriver.common.by import By\n",
    "import json\n",
    "import time\n"
   ]
  },
  {
   "cell_type": "code",
   "execution_count": 6,
   "metadata": {},
   "outputs": [
    {
     "name": "stdout",
     "output_type": "stream",
     "text": [
      "starting generation: 1...\n",
      "total: 151\n",
      "starting generation: 2...\n",
      "total: 100\n",
      "starting generation: 3...\n",
      "total: 135\n",
      "starting generation: 4...\n",
      "total: 107\n",
      "starting generation: 5...\n",
      "total: 156\n",
      "starting generation: 6...\n",
      "total: 72\n",
      "starting generation: 7...\n",
      "total: 88\n",
      "starting generation: 8...\n",
      "total: 96\n",
      "starting generation: 9...\n",
      "total: 103\n"
     ]
    }
   ],
   "source": [
    "def scrape_all_pokemon():\n",
    "    options = Options()\n",
    "    options.add_argument(\"--headless\")\n",
    "    driver = webdriver.Chrome(options=options)\n",
    "    driver.get(\"https://pokemondb.net/pokedex/national\")\n",
    "    driver.execute_script(\"window.scrollTo(0, document.body.scrollHeight)\")\n",
    "    time.sleep(5)\n",
    "\n",
    "    res = []\n",
    "\n",
    "    generations = driver.find_elements(\n",
    "        By.CSS_SELECTOR, \".infocard-list.infocard-list-pkmn-lg\"\n",
    "    )\n",
    "    for index, gen in enumerate(generations):\n",
    "        gen_num = index + 1\n",
    "        pokemons = gen.find_elements(By.CSS_SELECTOR, \"div.infocard\")\n",
    "        print(f\"starting generation: {gen_num}...\\ntotal: {len(pokemons)}\")\n",
    "        for poke in pokemons:\n",
    "            poke_details = poke.find_element(\n",
    "                By.CSS_SELECTOR, \"span.infocard-lg-data.text-muted\"\n",
    "            )\n",
    "            poke_name = poke_details.find_element(By.CSS_SELECTOR, \"a\").text\n",
    "            number = int(\n",
    "                poke_details.find_element(By.CSS_SELECTOR, \"small\").text.strip(\"#\")\n",
    "            )\n",
    "            types = poke_details.find_elements(By.CSS_SELECTOR, \"small\")[1].text.split(\n",
    "                \" · \"\n",
    "            )\n",
    "            url = poke.find_element(\n",
    "                By.CSS_SELECTOR, \"span.infocard-lg-img > a\"\n",
    "            ).get_attribute(\"href\")\n",
    "            clean_poke_name = (\n",
    "                poke_name.lower()\n",
    "                .replace(\"\\u2640\", \"-f\")\n",
    "                .replace(\"\\u2642\", \"-m\")\n",
    "                .replace(\" \", \"-\")\n",
    "            )\n",
    "            sprite = f\"https://img.pokemondb.net/sprites/{'home' if gen_num != 9 else 'scarlet-violet'}/normal/{clean_poke_name}.png\"\n",
    "            res.append(\n",
    "                {\n",
    "                    \"name\": poke_name,\n",
    "                    \"number\": number,\n",
    "                    \"types\": types,\n",
    "                    \"url\": url,\n",
    "                    \"sprite\": sprite,\n",
    "                    \"generation\": gen_num,\n",
    "                }\n",
    "            )\n",
    "    with open(\"pokemondb.json\", \"w+\") as f:\n",
    "        json.dump(res, f)\n",
    "\n",
    "    driver.close()\n",
    "\n",
    "\n",
    "scrape_all_pokemon()\n",
    "# https://img.pokemondb.net/sprites/home/normal/bulbasaur.png\n",
    "# https://img.pokemondb.net/sprites/scarlet-violet/normal/sprigatito.png"
   ]
  },
  {
   "cell_type": "code",
   "execution_count": 3,
   "metadata": {},
   "outputs": [
    {
     "ename": "FileNotFoundError",
     "evalue": "[Errno 2] No such file or directory: 'src/components/Pokemon/fixtures/types.json'",
     "output_type": "error",
     "traceback": [
      "\u001b[0;31m---------------------------------------------------------------------------\u001b[0m",
      "\u001b[0;31mFileNotFoundError\u001b[0m                         Traceback (most recent call last)",
      "Cell \u001b[0;32mIn[3], line 1\u001b[0m\n\u001b[0;32m----> 1\u001b[0m poke_types \u001b[39m=\u001b[39m json\u001b[39m.\u001b[39mload(\u001b[39mopen\u001b[39;49m(\u001b[39m'\u001b[39;49m\u001b[39msrc/components/Pokemon/fixtures/types.json\u001b[39;49m\u001b[39m'\u001b[39;49m))\n",
      "File \u001b[0;32m~/Library/Python/3.9/lib/python/site-packages/IPython/core/interactiveshell.py:282\u001b[0m, in \u001b[0;36m_modified_open\u001b[0;34m(file, *args, **kwargs)\u001b[0m\n\u001b[1;32m    275\u001b[0m \u001b[39mif\u001b[39;00m file \u001b[39min\u001b[39;00m {\u001b[39m0\u001b[39m, \u001b[39m1\u001b[39m, \u001b[39m2\u001b[39m}:\n\u001b[1;32m    276\u001b[0m     \u001b[39mraise\u001b[39;00m \u001b[39mValueError\u001b[39;00m(\n\u001b[1;32m    277\u001b[0m         \u001b[39mf\u001b[39m\u001b[39m\"\u001b[39m\u001b[39mIPython won\u001b[39m\u001b[39m'\u001b[39m\u001b[39mt let you open fd=\u001b[39m\u001b[39m{\u001b[39;00mfile\u001b[39m}\u001b[39;00m\u001b[39m by default \u001b[39m\u001b[39m\"\u001b[39m\n\u001b[1;32m    278\u001b[0m         \u001b[39m\"\u001b[39m\u001b[39mas it is likely to crash IPython. If you know what you are doing, \u001b[39m\u001b[39m\"\u001b[39m\n\u001b[1;32m    279\u001b[0m         \u001b[39m\"\u001b[39m\u001b[39myou can use builtins\u001b[39m\u001b[39m'\u001b[39m\u001b[39m open.\u001b[39m\u001b[39m\"\u001b[39m\n\u001b[1;32m    280\u001b[0m     )\n\u001b[0;32m--> 282\u001b[0m \u001b[39mreturn\u001b[39;00m io_open(file, \u001b[39m*\u001b[39;49margs, \u001b[39m*\u001b[39;49m\u001b[39m*\u001b[39;49mkwargs)\n",
      "\u001b[0;31mFileNotFoundError\u001b[0m: [Errno 2] No such file or directory: 'src/components/Pokemon/fixtures/types.json'"
     ]
    }
   ],
   "source": [
    "poke_types = json.load(open('src/components/Pokemon/fixtures/types.json'))"
   ]
  },
  {
   "cell_type": "code",
   "execution_count": null,
   "metadata": {},
   "outputs": [],
   "source": []
  }
 ],
 "metadata": {
  "kernelspec": {
   "display_name": "Python 3.9.6 64-bit",
   "language": "python",
   "name": "python3"
  },
  "language_info": {
   "codemirror_mode": {
    "name": "ipython",
    "version": 3
   },
   "file_extension": ".py",
   "mimetype": "text/x-python",
   "name": "python",
   "nbconvert_exporter": "python",
   "pygments_lexer": "ipython3",
   "version": "3.9.6"
  },
  "orig_nbformat": 4,
  "vscode": {
   "interpreter": {
    "hash": "31f2aee4e71d21fbe5cf8b01ff0e069b9275f58929596ceb00d14d90e3e16cd6"
   }
  }
 },
 "nbformat": 4,
 "nbformat_minor": 2
}
