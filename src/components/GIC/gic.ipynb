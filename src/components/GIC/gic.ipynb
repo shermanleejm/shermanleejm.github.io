{
 "cells": [
  {
   "cell_type": "code",
   "execution_count": 2,
   "metadata": {},
   "outputs": [],
   "source": [
    "import pandas as pd\n",
    "from pandas_datareader import data\n",
    "from datetime import datetime\n",
    "from dateutil.relativedelta import relativedelta\n",
    "import requests\n",
    "from enum import Enum\n",
    "import pprint\n",
    "\n",
    "pp = pprint.PrettyPrinter(indent=1)\n",
    "\n",
    "ALPHA_VANTAGE_API_KEY = '111111111111'\n"
   ]
  },
  {
   "cell_type": "markdown",
   "metadata": {},
   "source": [
    "# Notes\n",
    "## Key indicators\n",
    "1. Gross profit margin = (revenue - cost) / revenue * 100\n",
    "2. EBITDA margin = EBITDA / revenue * 100\n",
    "3. Expenditure as % of revenue = expenditure / revenue\n",
    "4. Net current asset value = (total liabilities - current assets) / number of outstanding shares\n",
    "5. Net working capital\n",
    "6. Benjamin Graham valuation formula (3% risk free rate)\n",
    "7. Earnings Power Value\n",
    "8. Fair Value PE = Basic PE x [1 + (1 - Business Risk)] x [1 + (1 - Financial Risk)] x [1 + (1 - Earnings Visibility)]\n",
    "  - Earnings growth rate\n",
    "  - Dividend yield\n",
    "  - Business risk\n",
    "  - Financial risk\n",
    "  - Earnings visibility\n",
    "9. Reverse discounted cash flow (GIC dun like?)"
   ]
  },
  {
   "cell_type": "code",
   "execution_count": 3,
   "metadata": {},
   "outputs": [],
   "source": [
    "class AlphaVantageFundamentalFunctions(Enum):\n",
    "    INCOME_STATEMENT = 'INCOME_STATEMENT'\n",
    "    BALANCE_SHEET = 'BALANCE_SHEET'\n",
    "    CASH_FLOW = 'CASH_FLOW'\n",
    "    EARNINGS = 'EARNINGS'\n",
    "    COMPANY_OVERVIEW = 'OVERVIEW'\n",
    "    LISTING_AND_DELISTING_STATUS = 'LISTING_STATUS'  # not frequently used\n",
    "    EARNINGS_CALENDAR = 'EARNINGS_CALENDAR'\n",
    "    IPO_CALENDAR = 'IPO_CALENDAR'\n",
    "\n",
    "\n",
    "def getTicker(companyName):\n",
    "    url = f'https://www.alphavantage.co/query?function=SYMBOL_SEARCH&keywords={companyName}&apikey={ALPHA_VANTAGE_API_KEY}'\n",
    "    response = requests.get(url=url)\n",
    "    data = response.json()\n",
    "    return [x.get('1. symbol') for x in data.get('bestMatches', [])]\n",
    "\n",
    "\n",
    "def getFundamentalData(function: AlphaVantageFundamentalFunctions, ticker: str):\n",
    "    url = f'https://www.alphavantage.co/query?function={function.value}&symbol={ticker}&apikey={ALPHA_VANTAGE_API_KEY}'\n",
    "    r = requests.get(url)\n",
    "    data = r.json()\n",
    "\n",
    "    return data\n",
    "\n",
    "def calculateGrossMargin(annualReport):\n",
    "    revenue = int(annualReport.get('totalRevenue', '0'))\n",
    "    cost = int(annualReport.get('costOfRevenue', '0'))\n",
    "    return (revenue - cost) / revenue * 100\n",
    "\n",
    "def calculateEBITDAMargin(companyOverview):\n",
    "    ebitda = int(companyOverview.get('EBITDA', '0'))\n",
    "    \n"
   ]
  },
  {
   "cell_type": "code",
   "execution_count": 5,
   "metadata": {},
   "outputs": [
    {
     "data": {
      "text/plain": [
       "{'Symbol': 'AAPL',\n",
       " 'AssetType': 'Common Stock',\n",
       " 'Name': 'Apple Inc',\n",
       " 'Description': \"Apple Inc. is an American multinational technology company that specializes in consumer electronics, computer software, and online services. Apple is the world's largest technology company by revenue (totalling $274.5 billion in 2020) and, since January 2021, the world's most valuable company. As of 2021, Apple is the world's fourth-largest PC vendor by unit sales, and fourth-largest smartphone manufacturer. It is one of the Big Five American information technology companies, along with Amazon, Google, Microsoft, and Facebook.\",\n",
       " 'CIK': '320193',\n",
       " 'Exchange': 'NASDAQ',\n",
       " 'Currency': 'USD',\n",
       " 'Country': 'USA',\n",
       " 'Sector': 'TECHNOLOGY',\n",
       " 'Industry': 'ELECTRONIC COMPUTERS',\n",
       " 'Address': 'ONE INFINITE LOOP, CUPERTINO, CA, US',\n",
       " 'FiscalYearEnd': 'September',\n",
       " 'LatestQuarter': '2022-03-31',\n",
       " 'MarketCapitalization': '2344749892000',\n",
       " 'EBITDA': '130633998000',\n",
       " 'PERatio': '23.56',\n",
       " 'PEGRatio': '2.56',\n",
       " 'BookValue': '4.158',\n",
       " 'DividendPerShare': '0.88',\n",
       " 'DividendYield': '0.0063',\n",
       " 'EPS': '6.15',\n",
       " 'RevenuePerShareTTM': '23.47',\n",
       " 'ProfitMargin': '0.264',\n",
       " 'OperatingMarginTTM': '0.309',\n",
       " 'ReturnOnAssetsTTM': '0.217',\n",
       " 'ReturnOnEquityTTM': '1.493',\n",
       " 'RevenueTTM': '386017001000',\n",
       " 'GrossProfitTTM': '152836000000',\n",
       " 'DilutedEPSTTM': '6.15',\n",
       " 'QuarterlyEarningsGrowthYOY': '0.086',\n",
       " 'QuarterlyRevenueGrowthYOY': '0.086',\n",
       " 'AnalystTargetPrice': '185.47',\n",
       " 'TrailingPE': '23.56',\n",
       " 'ForwardPE': '23.2',\n",
       " 'PriceToSalesRatioTTM': '6.07',\n",
       " 'PriceToBookRatio': '35.31',\n",
       " 'EVToRevenue': '6.34',\n",
       " 'EVToEBITDA': '18.41',\n",
       " 'Beta': '1.195',\n",
       " '52WeekHigh': '182.44',\n",
       " '52WeekLow': '129.04',\n",
       " '50DayMovingAverage': '144.72',\n",
       " '200DayMovingAverage': '158.28',\n",
       " 'SharesOutstanding': '16185200000',\n",
       " 'DividendDate': '2022-05-12',\n",
       " 'ExDividendDate': '2022-05-06'}"
      ]
     },
     "execution_count": 5,
     "metadata": {},
     "output_type": "execute_result"
    }
   ],
   "source": [
    "companyOverview = getFundamentalData(AlphaVantageFundamentalFunctions.COMPANY_OVERVIEW, 'AAPL')\n",
    "\n"
   ]
  },
  {
   "cell_type": "code",
   "execution_count": 3,
   "metadata": {},
   "outputs": [],
   "source": [
    "tickers = ['AAPL', 'AMZN']\n",
    "\n",
    "start_date = (datetime.now() - relativedelta(years=5)).strftime(\"%Y-%m-%d\")\n",
    "end_date = datetime.now().strftime(\"%Y-%m-%d\")\n",
    "\n",
    "# Use pandas_reader.data.DataReader to load data\n",
    "panel_data = data.DataReader(tickers, 'yahoo', start_date, end_date)\n"
   ]
  },
  {
   "cell_type": "code",
   "execution_count": 4,
   "metadata": {},
   "outputs": [],
   "source": [
    "moving_averages = [50, 100, 200]\n",
    "for tic in tickers:\n",
    "    for ma in moving_averages:\n",
    "        panel_data[f'ma{ma}', tic] = panel_data.Close[tic].rolling(\n",
    "            window=ma).mean()\n"
   ]
  },
  {
   "cell_type": "code",
   "execution_count": 23,
   "metadata": {},
   "outputs": [
    {
     "data": {
      "text/plain": [
       "['TSLA', 'TL0.DEX', 'TL0.FRK', 'TSLA34.SAO']"
      ]
     },
     "execution_count": 23,
     "metadata": {},
     "output_type": "execute_result"
    }
   ],
   "source": [
    "getTicker('tesla')"
   ]
  },
  {
   "cell_type": "code",
   "execution_count": null,
   "metadata": {},
   "outputs": [],
   "source": []
  }
 ],
 "metadata": {
  "kernelspec": {
   "display_name": "Python 3.8.2 64-bit",
   "language": "python",
   "name": "python3"
  },
  "language_info": {
   "codemirror_mode": {
    "name": "ipython",
    "version": 3
   },
   "file_extension": ".py",
   "mimetype": "text/x-python",
   "name": "python",
   "nbconvert_exporter": "python",
   "pygments_lexer": "ipython3",
   "version": "3.8.10"
  },
  "orig_nbformat": 4,
  "vscode": {
   "interpreter": {
    "hash": "31f2aee4e71d21fbe5cf8b01ff0e069b9275f58929596ceb00d14d90e3e16cd6"
   }
  }
 },
 "nbformat": 4,
 "nbformat_minor": 2
}
