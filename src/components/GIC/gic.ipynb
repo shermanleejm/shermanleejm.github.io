{
 "cells": [
  {
   "cell_type": "code",
   "execution_count": 42,
   "metadata": {},
   "outputs": [],
   "source": [
    "import pandas as pd\n",
    "from pandas_datareader import data\n",
    "from datetime import datetime\n",
    "from dateutil.relativedelta import relativedelta\n",
    "import requests\n",
    "from enum import Enum\n",
    "import pprint\n",
    "import json\n",
    "\n",
    "pp = pprint.PrettyPrinter(indent=1)\n",
    "\n",
    "ALPHA_VANTAGE_API_KEY = '111111111111'\n",
    "\n",
    "SEMICON_TICKERS = [\n",
    "    'INTC',\n",
    "    \"MU\",\n",
    "    'TXN',\n",
    "    'QCOM',\n",
    "    'WOLF',\n",
    "    'AMBA',\n",
    "    'AMAT',\n",
    "    'NXPI',\n",
    "    'SWKS',\n",
    "    'NVDA',\n",
    "    \n",
    "]"
   ]
  },
  {
   "cell_type": "markdown",
   "metadata": {},
   "source": [
    "# Notes\n",
    "## Key indicators\n",
    "1. Gross profit margin = (revenue - cost) / revenue * 100\n",
    "2. EBITDA margin = EBITDA / revenue * 100\n",
    "3. Expenditure as % of revenue = expenditure / revenue\n",
    "4. Net current asset value = (total liabilities - current assets) / number of outstanding shares\n",
    "5. Net working capital\n",
    "6. Benjamin Graham valuation formula (3% risk free rate)\n",
    "7. Earnings Power Value\n",
    "8. Fair Value PE = Basic PE x [1 + (1 - Business Risk)] x [1 + (1 - Financial Risk)] x [1 + (1 - Earnings Visibility)]\n",
    "  - Earnings growth rate\n",
    "  - Dividend yield\n",
    "  - Business risk\n",
    "  - Financial risk\n",
    "  - Earnings visibility\n",
    "9. Reverse discounted cash flow (GIC dun like?)"
   ]
  },
  {
   "cell_type": "code",
   "execution_count": 52,
   "metadata": {},
   "outputs": [
    {
     "name": "stdout",
     "output_type": "stream",
     "text": [
      "[234954000000]\n",
      "0.35305034529093654\n",
      "0.33841514146160623\n"
     ]
    }
   ],
   "source": [
    "class AlphaVantageFundamentalFunctions(Enum):\n",
    "    INCOME_STATEMENT = 'INCOME_STATEMENT'\n",
    "    BALANCE_SHEET = 'BALANCE_SHEET'\n",
    "    CASH_FLOW = 'CASH_FLOW'\n",
    "    EARNINGS = 'EARNINGS'\n",
    "    COMPANY_OVERVIEW = 'OVERVIEW'\n",
    "    LISTING_AND_DELISTING_STATUS = 'LISTING_STATUS'  # not frequently used\n",
    "    EARNINGS_CALENDAR = 'EARNINGS_CALENDAR'\n",
    "    IPO_CALENDAR = 'IPO_CALENDAR'\n",
    "\n",
    "\n",
    "def getTicker(companyName):\n",
    "    url = f'https://www.alphavantage.co/query?function=SYMBOL_SEARCH&keywords={companyName}&apikey={ALPHA_VANTAGE_API_KEY}'\n",
    "    response = requests.get(url=url)\n",
    "    data = response.json()\n",
    "    return [x.get('1. symbol') for x in data.get('bestMatches', [])]\n",
    "\n",
    "\n",
    "def getFundamentalData(function: AlphaVantageFundamentalFunctions, ticker: str):\n",
    "    url = f'https://www.alphavantage.co/query?function={function.value}&symbol={ticker}&apikey={ALPHA_VANTAGE_API_KEY}'\n",
    "    r = requests.get(url)\n",
    "    data = r.json()\n",
    "\n",
    "    return data\n",
    "\n",
    "\n",
    "def calculateGrossMargin(annualReport):\n",
    "    revenue = int(annualReport.get('totalRevenue', '0'))\n",
    "    profit = int(annualReport.get('profit', '0'))\n",
    "    costs = [\n",
    "        'costOfRevenue',\n",
    "        # 'costofGoodsAndServicesSold',\n",
    "        # 'operatingExpenses',\n",
    "        # 'researchAndDevelopment',\n",
    "        # 'sellingGeneralAndAdministrative'\n",
    "    ]\n",
    "    totalCosts = sum([int(annualReport.get(cost, '0')) for cost in costs])\n",
    "    return (revenue - totalCosts) / revenue\n",
    "\n",
    "\n",
    "def calculateEBITDAMargin(companyOverview):\n",
    "    ebitda = int(companyOverview.get('EBITDA', '0'))\n",
    "    revenue = int(companyOverview.get('RevenueTTM', '0'))\n",
    "    return ebitda / revenue\n",
    "\n",
    "\n",
    "print(calculateGrossMargin(annualReport))\n",
    "print(calculateEBITDAMargin(companyOverview))\n"
   ]
  },
  {
   "cell_type": "code",
   "execution_count": 8,
   "metadata": {},
   "outputs": [],
   "source": [
    "companyOverview = getFundamentalData(\n",
    "    AlphaVantageFundamentalFunctions.COMPANY_OVERVIEW, 'AAPL')\n",
    "annualReport = getFundamentalData(\n",
    "    AlphaVantageFundamentalFunctions.INCOME_STATEMENT, 'AAPL').get('annualReports', [[]])[0]\n"
   ]
  },
  {
   "cell_type": "code",
   "execution_count": 41,
   "metadata": {},
   "outputs": [
    {
     "name": "stdout",
     "output_type": "stream",
     "text": [
      "[234954000000, 212981000000, 43887000000, 21914000000]\n",
      "-0.4145804191953124\n",
      "0.33841514146160623\n"
     ]
    }
   ],
   "source": [
    "\n"
   ]
  },
  {
   "cell_type": "code",
   "execution_count": 3,
   "metadata": {},
   "outputs": [],
   "source": [
    "tickers = ['AAPL', 'AMZN']\n",
    "\n",
    "start_date = (datetime.now() - relativedelta(years=5)).strftime(\"%Y-%m-%d\")\n",
    "end_date = datetime.now().strftime(\"%Y-%m-%d\")\n",
    "\n",
    "# Use pandas_reader.data.DataReader to load data\n",
    "panel_data = data.DataReader(tickers, 'yahoo', start_date, end_date)\n"
   ]
  },
  {
   "cell_type": "code",
   "execution_count": 4,
   "metadata": {},
   "outputs": [],
   "source": [
    "moving_averages = [50, 100, 200]\n",
    "for tic in tickers:\n",
    "    for ma in moving_averages:\n",
    "        panel_data[f'ma{ma}', tic] = panel_data.Close[tic].rolling(\n",
    "            window=ma).mean()\n"
   ]
  },
  {
   "cell_type": "code",
   "execution_count": 23,
   "metadata": {},
   "outputs": [
    {
     "data": {
      "text/plain": [
       "['TSLA', 'TL0.DEX', 'TL0.FRK', 'TSLA34.SAO']"
      ]
     },
     "execution_count": 23,
     "metadata": {},
     "output_type": "execute_result"
    }
   ],
   "source": [
    "getTicker('tesla')"
   ]
  },
  {
   "cell_type": "code",
   "execution_count": 19,
   "metadata": {},
   "outputs": [
    {
     "name": "stdout",
     "output_type": "stream",
     "text": [
      "{'comprehensiveIncomeNetOfTax': '95249000000',\n",
      " 'costOfRevenue': '234954000000',\n",
      " 'costofGoodsAndServicesSold': '212981000000',\n",
      " 'depreciation': '9500000000',\n",
      " 'depreciationAndAmortization': '11284000000',\n",
      " 'ebit': '111852000000',\n",
      " 'ebitda': '123136000000',\n",
      " 'fiscalDateEnding': '2021-09-30',\n",
      " 'grossProfit': '152836000000',\n",
      " 'incomeBeforeTax': '109207000000',\n",
      " 'incomeTaxExpense': '14527000000',\n",
      " 'interestAndDebtExpense': '2645000000',\n",
      " 'interestExpense': '2645000000',\n",
      " 'interestIncome': '2843000000',\n",
      " 'investmentIncomeNet': '2843000000',\n",
      " 'netIncome': '94680000000',\n",
      " 'netIncomeFromContinuingOperations': '94680000000',\n",
      " 'netInterestIncome': '-2645000000',\n",
      " 'nonInterestIncome': '365817000000',\n",
      " 'operatingExpenses': '43887000000',\n",
      " 'operatingIncome': '108949000000',\n",
      " 'otherNonOperatingIncome': '60000000',\n",
      " 'reportedCurrency': 'USD',\n",
      " 'researchAndDevelopment': '21914000000',\n",
      " 'sellingGeneralAndAdministrative': '21973000000',\n",
      " 'totalRevenue': '363172000000'}\n"
     ]
    }
   ],
   "source": [
    "pp.pprint(annualReport)\n"
   ]
  },
  {
   "cell_type": "code",
   "execution_count": 20,
   "metadata": {},
   "outputs": [
    {
     "name": "stdout",
     "output_type": "stream",
     "text": [
      "{'200DayMovingAverage': '158.28',\n",
      " '50DayMovingAverage': '144.72',\n",
      " '52WeekHigh': '182.44',\n",
      " '52WeekLow': '129.04',\n",
      " 'Address': 'ONE INFINITE LOOP, CUPERTINO, CA, US',\n",
      " 'AnalystTargetPrice': '185.47',\n",
      " 'AssetType': 'Common Stock',\n",
      " 'Beta': '1.195',\n",
      " 'BookValue': '4.158',\n",
      " 'CIK': '320193',\n",
      " 'Country': 'USA',\n",
      " 'Currency': 'USD',\n",
      " 'Description': 'Apple Inc. is an American multinational technology company '\n",
      "                'that specializes in consumer electronics, computer software, '\n",
      "                \"and online services. Apple is the world's largest technology \"\n",
      "                'company by revenue (totalling $274.5 billion in 2020) and, '\n",
      "                \"since January 2021, the world's most valuable company. As of \"\n",
      "                \"2021, Apple is the world's fourth-largest PC vendor by unit \"\n",
      "                'sales, and fourth-largest smartphone manufacturer. It is one '\n",
      "                'of the Big Five American information technology companies, '\n",
      "                'along with Amazon, Google, Microsoft, and Facebook.',\n",
      " 'DilutedEPSTTM': '6.15',\n",
      " 'DividendDate': '2022-05-12',\n",
      " 'DividendPerShare': '0.88',\n",
      " 'DividendYield': '0.0063',\n",
      " 'EBITDA': '130633998000',\n",
      " 'EPS': '6.15',\n",
      " 'EVToEBITDA': '18.41',\n",
      " 'EVToRevenue': '6.34',\n",
      " 'ExDividendDate': '2022-05-06',\n",
      " 'Exchange': 'NASDAQ',\n",
      " 'FiscalYearEnd': 'September',\n",
      " 'ForwardPE': '23.2',\n",
      " 'GrossProfitTTM': '152836000000',\n",
      " 'Industry': 'ELECTRONIC COMPUTERS',\n",
      " 'LatestQuarter': '2022-03-31',\n",
      " 'MarketCapitalization': '2344749892000',\n",
      " 'Name': 'Apple Inc',\n",
      " 'OperatingMarginTTM': '0.309',\n",
      " 'PEGRatio': '2.56',\n",
      " 'PERatio': '23.56',\n",
      " 'PriceToBookRatio': '35.31',\n",
      " 'PriceToSalesRatioTTM': '6.07',\n",
      " 'ProfitMargin': '0.264',\n",
      " 'QuarterlyEarningsGrowthYOY': '0.086',\n",
      " 'QuarterlyRevenueGrowthYOY': '0.086',\n",
      " 'ReturnOnAssetsTTM': '0.217',\n",
      " 'ReturnOnEquityTTM': '1.493',\n",
      " 'RevenuePerShareTTM': '23.47',\n",
      " 'RevenueTTM': '386017001000',\n",
      " 'Sector': 'TECHNOLOGY',\n",
      " 'SharesOutstanding': '16185200000',\n",
      " 'Symbol': 'AAPL',\n",
      " 'TrailingPE': '23.56'}\n"
     ]
    }
   ],
   "source": [
    "pp.pprint(companyOverview)"
   ]
  },
  {
   "cell_type": "code",
   "execution_count": null,
   "metadata": {},
   "outputs": [],
   "source": []
  }
 ],
 "metadata": {
  "kernelspec": {
   "display_name": "Python 3.8.2 64-bit",
   "language": "python",
   "name": "python3"
  },
  "language_info": {
   "codemirror_mode": {
    "name": "ipython",
    "version": 3
   },
   "file_extension": ".py",
   "mimetype": "text/x-python",
   "name": "python",
   "nbconvert_exporter": "python",
   "pygments_lexer": "ipython3",
   "version": "3.8.10"
  },
  "orig_nbformat": 4,
  "vscode": {
   "interpreter": {
    "hash": "31f2aee4e71d21fbe5cf8b01ff0e069b9275f58929596ceb00d14d90e3e16cd6"
   }
  }
 },
 "nbformat": 4,
 "nbformat_minor": 2
}
