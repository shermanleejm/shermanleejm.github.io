{
 "cells": [
  {
   "cell_type": "code",
   "execution_count": 1,
   "metadata": {},
   "outputs": [],
   "source": [
    "import json"
   ]
  },
  {
   "cell_type": "code",
   "execution_count": 2,
   "metadata": {},
   "outputs": [],
   "source": [
    "expen = json.loads(open(\"/Users/sherman/Downloads/expenditure (9).json\", \"r\").read())\n"
   ]
  },
  {
   "cell_type": "code",
   "execution_count": 3,
   "metadata": {},
   "outputs": [
    {
     "data": {
      "text/plain": [
       "82311"
      ]
     },
     "execution_count": 3,
     "metadata": {},
     "output_type": "execute_result"
    }
   ],
   "source": [
    "new_expen = {}\n",
    "for key, value in expen.items():\n",
    "    new_expen[key] = []\n",
    "    for row in expen[key]:\n",
    "        new_row = {**row, \"category\": json.dumps([row[\"category\"]])}\n",
    "        if key == \"expenditure\":\n",
    "            if new_row[\"category\"] == '[\\\"salary\\\"]':\n",
    "                new_row[\"credit_card\"] = \"DBS\"\n",
    "            else:    \n",
    "                new_row[\"credit_card\"] = \"Citi 1276\"\n",
    "        new_expen[key].append(new_row)\n",
    "open(\"expenditure.json\", \"w+\").write(json.dumps(new_expen))\n"
   ]
  }
 ],
 "metadata": {
  "kernelspec": {
   "display_name": "Python 3 (ipykernel)",
   "language": "python",
   "name": "python3"
  },
  "language_info": {
   "codemirror_mode": {
    "name": "ipython",
    "version": 3
   },
   "file_extension": ".py",
   "mimetype": "text/x-python",
   "name": "python",
   "nbconvert_exporter": "python",
   "pygments_lexer": "ipython3",
   "version": "3.9.6"
  },
  "orig_nbformat": 4,
  "vscode": {
   "interpreter": {
    "hash": "d32f6fbf61593cf6813129d4cb93e6fa4b4be67830af1439dfafd94431a0020e"
   }
  }
 },
 "nbformat": 4,
 "nbformat_minor": 2
}
