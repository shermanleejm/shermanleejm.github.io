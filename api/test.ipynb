{
 "cells": [
  {
   "cell_type": "code",
   "execution_count": 4,
   "metadata": {},
   "outputs": [],
   "source": [
    "import json\n",
    "import fnc"
   ]
  },
  {
   "cell_type": "code",
   "execution_count": 11,
   "metadata": {},
   "outputs": [],
   "source": [
    "expenditure = json.loads(open(\"expenditure.json\", \"r\").read())\n"
   ]
  },
  {
   "cell_type": "code",
   "execution_count": 13,
   "metadata": {},
   "outputs": [
    {
     "data": {
      "text/plain": [
       "{'category': 'salary',\n",
       " 'name': 'monthly',\n",
       " 'amount': 5045.33,\n",
       " 'datetime': 1688174553,\n",
       " 'txn_type': 'salary',\n",
       " 'credit_card': 'Cash',\n",
       " 'id': 1}"
      ]
     },
     "execution_count": 13,
     "metadata": {},
     "output_type": "execute_result"
    }
   ],
   "source": [
    "expenditure[\"expenditure\"] = list(fnc.map(\n",
    "    lambda x: {**x, \"category\": json.loads(x[\"category\"])[0]}, expenditure[\"expenditure\"]\n",
    "))\n",
    "expenditure[\"expenditure\"][0]\n"
   ]
  },
  {
   "cell_type": "code",
   "execution_count": null,
   "metadata": {},
   "outputs": [],
   "source": [
    "json.dump(expenditure, open('expenditure.json', 'w+'))"
   ]
  }
 ],
 "metadata": {
  "kernelspec": {
   "display_name": "Python 3 (ipykernel)",
   "language": "python",
   "name": "python3"
  },
  "language_info": {
   "codemirror_mode": {
    "name": "ipython",
    "version": 3
   },
   "file_extension": ".py",
   "mimetype": "text/x-python",
   "name": "python",
   "nbconvert_exporter": "python",
   "pygments_lexer": "ipython3",
   "version": "3.9.6"
  },
  "orig_nbformat": 4,
  "vscode": {
   "interpreter": {
    "hash": "d32f6fbf61593cf6813129d4cb93e6fa4b4be67830af1439dfafd94431a0020e"
   }
  }
 },
 "nbformat": 4,
 "nbformat_minor": 2
}
